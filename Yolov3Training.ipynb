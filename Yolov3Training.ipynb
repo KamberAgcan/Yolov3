{
 "cells": [
  {
   "cell_type": "code",
   "execution_count": 1,
   "id": "sufficient-lyric",
   "metadata": {},
   "outputs": [],
   "source": [
    "import cv2\n",
    "import time\n",
    "import argparse\n",
    "import numpy as np\n",
    "import os\n",
    "import matplotlib.pyplot as plt"
   ]
  },
  {
   "cell_type": "code",
   "execution_count": 2,
   "id": "coastal-seven",
   "metadata": {},
   "outputs": [
    {
     "name": "stdout",
     "output_type": "stream",
     "text": [
      "A file with the specified name already exists.\n"
     ]
    }
   ],
   "source": [
    "try:\n",
    "    os.mkdir(\"Output_images\")\n",
    "    print(\"A new file has been created.\")\n",
    "except:\n",
    "    print(\"A file with the specified name already exists.\")"
   ]
  },
  {
   "cell_type": "code",
   "execution_count": 3,
   "id": "specified-jefferson",
   "metadata": {},
   "outputs": [],
   "source": [
    "input_image_path = \"/home/kamber/Desktop/KamberAgcan/Python/GitHub/Yolov3Training/images\"\n",
    "output_image_path = \"/home/kamber/Desktop/KamberAgcan/Python/GitHub/Yolov3Training/Output_images\""
   ]
  },
  {
   "cell_type": "code",
   "execution_count": 4,
   "id": "congressional-victor",
   "metadata": {},
   "outputs": [],
   "source": [
    "yolo_cfg = \"/home/kamber/Desktop/KamberAgcan/Python/Yolov3/darknet-master/darknet-master/cfg/yolov3.cfg\"\n",
    "coco_names = \"/home/kamber/Desktop/KamberAgcan/Python/Yolov3/darknet-master/darknet-master/data/coco.names\"\n",
    "yolo_weights = \"/home/kamber/Desktop/KamberAgcan/Python/Yolov3/darknet-master/darknet-master/yolov3.weights\"\n",
    "confidence_threshold = 0.5\n",
    "nms_threshold = 0.5"
   ]
  },
  {
   "cell_type": "code",
   "execution_count": 5,
   "id": "premier-hours",
   "metadata": {},
   "outputs": [],
   "source": [
    "def load_input_image(image_path):\n",
    "    test_img = cv2.imread(image_path)\n",
    "    h, w, _ = test_img.shape\n",
    "\n",
    "    return test_img, h, w"
   ]
  },
  {
   "cell_type": "code",
   "execution_count": 6,
   "id": "affecting-purpose",
   "metadata": {},
   "outputs": [],
   "source": [
    "def yolov3(yolo_weights, yolo_cfg, coco_names):\n",
    "    net = cv2.dnn.readNet(yolo_weights, yolo_cfg)\n",
    "    classes = open(coco_names).read().strip().split(\"\\n\")\n",
    "    layer_names = net.getLayerNames()\n",
    "    output_layers = [layer_names[i[0] - 1] for i in net.getUnconnectedOutLayers()]\n",
    "\n",
    "    return net, classes, output_layers"
   ]
  },
  {
   "cell_type": "code",
   "execution_count": 7,
   "id": "arabic-layout",
   "metadata": {},
   "outputs": [],
   "source": [
    "def perform_detection(net, img, output_layers, w, h, confidence_threshold):\n",
    "    blob = cv2.dnn.blobFromImage(img, 1 / 255., (416, 416), swapRB=True, crop=False)\n",
    "    net.setInput(blob)\n",
    "    layer_outputs = net.forward(output_layers)\n",
    "\n",
    "    boxes = []\n",
    "    confidences = []\n",
    "    class_ids = []\n",
    "\n",
    "    for output in layer_outputs:\n",
    "        for detection in output:\n",
    "            scores = detection[5:]\n",
    "            class_id = np.argmax(scores)\n",
    "            confidence = scores[class_id]\n",
    "\n",
    "            # Object is deemed to be detected\n",
    "            if confidence > confidence_threshold:\n",
    "               \n",
    "                center_x, center_y, width, height = list(map(int, detection[0:4] * [w, h, w, h]))\n",
    "               \n",
    "\n",
    "                top_left_x = int(center_x - (width / 2))\n",
    "                top_left_y = int(center_y - (height / 2))\n",
    "\n",
    "                boxes.append([top_left_x, top_left_y, width, height])\n",
    "                confidences.append(float(confidence))\n",
    "                class_ids.append(class_id)\n",
    "\n",
    "    return boxes, confidences, class_ids"
   ]
  },
  {
   "cell_type": "code",
   "execution_count": 8,
   "id": "stopped-disorder",
   "metadata": {},
   "outputs": [],
   "source": [
    "def draw_boxes(boxes, confidences, class_ids, classes, img, colors, confidence_threshold, NMS_threshold):\n",
    "\n",
    "    indexes = cv2.dnn.NMSBoxes(boxes, confidences, confidence_threshold, NMS_threshold)\n",
    "\n",
    "    FONT = cv2.FONT_HERSHEY_SIMPLEX\n",
    "\n",
    "    if len(indexes) > 0:\n",
    "        for i in indexes.flatten():\n",
    "            x, y, w, h = boxes[i]\n",
    "            \n",
    "            color = colors[i]\n",
    "            cv2.rectangle(img, (x, y), (x + w, y + h), color, 2)\n",
    "  \n",
    "            text = \"{}: {:.4f}\".format(classes[class_ids[i]], confidences[i])\n",
    "            #cv2.putText(img, text, (x, y - 5), FONT, 0.5, color, 2)\n",
    "            k = cv2.putText(img, text, (x, y - 5), FONT, 0.5, color, 2)\n",
    "\n",
    "    #cv2.imshow(\"Detection\", img)\n",
    "    return img\n",
    "    print(k)"
   ]
  },
  {
   "cell_type": "code",
   "execution_count": 9,
   "id": "nominated-introduction",
   "metadata": {},
   "outputs": [],
   "source": [
    "def detection_image_file(image_path, yolo_weights, yolo_cfg, coco_names, confidence_threshold, nms_threshold):\n",
    "    img, h, w = load_input_image(image_path)\n",
    "    net, classes, output_layers = yolov3(yolo_weights, yolo_cfg, coco_names)\n",
    "    colors = np.random.uniform(0, 255, size=(len(classes), 3))\n",
    "    boxes, confidences, class_ids = perform_detection(net, img, output_layers, w, h, confidence_threshold)\n",
    "    img = draw_boxes(boxes, confidences, class_ids, classes, img, colors, confidence_threshold, nms_threshold)\n",
    "    cv2.imwrite(output_image_path + \"/\" + image_path.split(\"/\")[-1],img)\n",
    "    \n",
    "    #cv2.waitKey(0)\n",
    "    #cv2.destroyAllWindows()"
   ]
  },
  {
   "cell_type": "code",
   "execution_count": 10,
   "id": "tribal-hudson",
   "metadata": {},
   "outputs": [],
   "source": [
    "def saving_detected_images(input_image_path, yolo_weights, yolo_cfg, coco_names, confidence_threshold, nms_threshold):\n",
    "   \n",
    "    input_images = os.listdir(input_image_path)\n",
    "    image_path = []\n",
    "    image_path2 = []\n",
    "    \n",
    "    for dirname, _, filenames in os.walk(input_image_path):\n",
    "        for filename in filenames:\n",
    "            image_path2.append(os.path.join(dirname, filename)) \n",
    "    image_path2 = np.asarray(image_path2) \n",
    "    \n",
    "    for i in range(len(input_images)): \n",
    "        input_images[i]\n",
    "        image_path.append(image_path2[i])  \n",
    "        detection_image_file(image_path[i], yolo_weights, yolo_cfg, coco_names, confidence_threshold, nms_threshold)\n",
    "    \n",
    "    print(\"Detected \"\"{}\"\" images has been saved in Output_image file.\".format(len(input_images)))\n"
   ]
  },
  {
   "cell_type": "code",
   "execution_count": 11,
   "id": "metropolitan-white",
   "metadata": {},
   "outputs": [
    {
     "name": "stdout",
     "output_type": "stream",
     "text": [
      "Detected 7 images has been saved in Output_image file.\n"
     ]
    }
   ],
   "source": [
    "saving_detected_images(input_image_path, yolo_weights, yolo_cfg, coco_names, confidence_threshold, nms_threshold)"
   ]
  },
  {
   "cell_type": "code",
   "execution_count": null,
   "id": "ecological-configuration",
   "metadata": {},
   "outputs": [],
   "source": []
  }
 ],
 "metadata": {
  "kernelspec": {
   "display_name": "Python 3",
   "language": "python",
   "name": "python3"
  },
  "language_info": {
   "codemirror_mode": {
    "name": "ipython",
    "version": 3
   },
   "file_extension": ".py",
   "mimetype": "text/x-python",
   "name": "python",
   "nbconvert_exporter": "python",
   "pygments_lexer": "ipython3",
   "version": "3.6.12"
  }
 },
 "nbformat": 4,
 "nbformat_minor": 5
}
